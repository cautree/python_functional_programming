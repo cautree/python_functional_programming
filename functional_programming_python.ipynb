{
 "cells": [
  {
   "cell_type": "code",
   "execution_count": 103,
   "metadata": {
    "collapsed": false
   },
   "outputs": [
    {
     "data": {
      "text/plain": [
       "[11/22/63,\n",
       " Bag of bones,\n",
       " Carrie,\n",
       " Christine,\n",
       " Cujo,\n",
       " The dead zone,\n",
       " Dolores Claiborne,\n",
       " The Drawing of the Three (The Dark Tower, Book 2),\n",
       " Dreamcatcher,\n",
       " Duma Key,\n",
       " The eyes of the dragon,\n",
       " Firestarter,\n",
       " The girl who loved Tom Gordon,\n",
       " The green mile,\n",
       " It,\n",
       " Misery,\n",
       " Needful things,\n",
       " Pet sematary,\n",
       " 'Salem's Lot,\n",
       " Song of Susannah (The Dark Tower, Book 6),\n",
       " The dark tower (The Dark Tower, Book 7),\n",
       " The Shining,\n",
       " The stand,\n",
       " The Tommyknockers,\n",
       " The Waste Lands (The Dark Tower, Book 3),\n",
       " Wizard and glass,\n",
       " Wolves of the Calla (The Dark Tower, Book 5),\n",
       " The Gunslinger (The Dark Tower, Book 1)]"
      ]
     },
     "execution_count": 103,
     "metadata": {},
     "output_type": "execute_result"
    }
   ],
   "source": [
    "import json\n",
    "from operator import attrgetter, itemgetter\n",
    "\n",
    "class Book:\n",
    "    def __init__(self, **kwargs):\n",
    "        for k, v in kwargs.items():\n",
    "            setattr(self, k, v)\n",
    "\n",
    "    def __str__(self):\n",
    "        return self.title\n",
    "    \n",
    "    def __repr__(self):\n",
    "        return str(self)\n",
    "    \n",
    "    \n",
    "def get_books(filename, raw=False):\n",
    "    try:\n",
    "        data = json.load(open(filename))\n",
    "    except FileNotFoundError:\n",
    "        return []\n",
    "    else:\n",
    "        if raw:\n",
    "            return data['books']\n",
    "        return [Book(**book) for book in data['books']]\n",
    "    \n",
    "BOOKS = get_books('books.json')\n",
    "RAW_BOOKS = get_books('books.json', raw=True)\n",
    "BOOKS"
   ]
  },
  {
   "cell_type": "code",
   "execution_count": 104,
   "metadata": {
    "collapsed": false
   },
   "outputs": [
    {
     "data": {
      "text/plain": [
       "list"
      ]
     },
     "execution_count": 104,
     "metadata": {},
     "output_type": "execute_result"
    }
   ],
   "source": [
    "type(BOOKS)"
   ]
  },
  {
   "cell_type": "code",
   "execution_count": 105,
   "metadata": {
    "collapsed": false
   },
   "outputs": [
    {
     "data": {
      "text/plain": [
       "Bag of bones"
      ]
     },
     "execution_count": 105,
     "metadata": {},
     "output_type": "execute_result"
    }
   ],
   "source": [
    "BOOKS[1]"
   ]
  },
  {
   "cell_type": "code",
   "execution_count": 106,
   "metadata": {
    "collapsed": false
   },
   "outputs": [
    {
     "data": {
      "text/plain": [
       "True"
      ]
     },
     "execution_count": 106,
     "metadata": {},
     "output_type": "execute_result"
    }
   ],
   "source": [
    "isinstance(BOOKS[1],Book)"
   ]
  },
  {
   "cell_type": "code",
   "execution_count": 107,
   "metadata": {
    "collapsed": false
   },
   "outputs": [
    {
     "data": {
      "text/plain": [
       "[{u'number_of_pages': 849,\n",
       "  u'price': 13.55,\n",
       "  u'publish_date': 2011,\n",
       "  u'subjects': [u'Time travel', u'Assassination'],\n",
       "  u'title': u'11/22/63'},\n",
       " {u'number_of_pages': 732,\n",
       "  u'price': 7.99,\n",
       "  u'publish_date': 1999,\n",
       "  u'subjects': [u'Authors',\n",
       "   u'Custody of children',\n",
       "   u'Grandfathers',\n",
       "   u'Haunted houses',\n",
       "   u'Novelists',\n",
       "   u'Trials (Custody of children)',\n",
       "   u'Widowers',\n",
       "   u'Widows',\n",
       "   u\"Writer's block\"],\n",
       "  u'title': u'Bag of bones'},\n",
       " {u'number_of_pages': 245,\n",
       "  u'price': 7.99,\n",
       "  u'publish_date': 1975,\n",
       "  u'subjects': [u'Telekinesis'],\n",
       "  u'title': u'Carrie'},\n",
       " {u'number_of_pages': 503,\n",
       "  u'price': 8.99,\n",
       "  u'publish_date': 1983,\n",
       "  u'subjects': [u'Triangles (Interpersonal relations)',\n",
       "   u'Teenagers',\n",
       "   u'Automobiles'],\n",
       "  u'title': u'Christine'},\n",
       " {u'number_of_pages': 304,\n",
       "  u'price': 7.99,\n",
       "  u'publish_date': 1982,\n",
       "  u'subjects': [u'Dogs', u'Rabies'],\n",
       "  u'title': u'Cujo'},\n",
       " {u'number_of_pages': 402,\n",
       "  u'price': 7.99,\n",
       "  u'publish_date': 1979,\n",
       "  u'subjects': [u'Psychics'],\n",
       "  u'title': u'The dead zone'},\n",
       " {u'number_of_pages': 372,\n",
       "  u'price': 12.69,\n",
       "  u'publish_date': 1993,\n",
       "  u'subjects': [u'Confession', u'Intimacy (Psychology)', u'Women'],\n",
       "  u'title': u'Dolores Claiborne'},\n",
       " {u'number_of_pages': 480,\n",
       "  u'price': 13.59,\n",
       "  u'publish_date': 2003,\n",
       "  u'subjects': [u'Roland (Fictitious character : King)'],\n",
       "  u'title': u'The Drawing of the Three (The Dark Tower, Book 2)'},\n",
       " {u'number_of_pages': 882,\n",
       "  u'price': 8.99,\n",
       "  u'publish_date': 2001,\n",
       "  u'subjects': [u'Human-alien encounters'],\n",
       "  u'title': u'Dreamcatcher'},\n",
       " {u'number_of_pages': 769,\n",
       "  u'price': 8.06,\n",
       "  u'publish_date': 2008,\n",
       "  u'subjects': [u'Accident victims', u'Supernatural'],\n",
       "  u'title': u'Duma Key'},\n",
       " {u'number_of_pages': 380,\n",
       "  u'price': 12.75,\n",
       "  u'publish_date': 1988,\n",
       "  u'subjects': [u'Princes', u'Dragons', u'Wizards'],\n",
       "  u'title': u'The eyes of the dragon'},\n",
       " {u'number_of_pages': 401,\n",
       "  u'price': 7.57,\n",
       "  u'publish_date': 1981,\n",
       "  u'subjects': [u'Psychokinesis', u'Fire', u'Psychic ability'],\n",
       "  u'title': u'Firestarter'},\n",
       " {u'number_of_pages': 264,\n",
       "  u'price': 7.99,\n",
       "  u'publish_date': 2000,\n",
       "  u'subjects': [u'Tom Gordon',\n",
       "   u'Boston Red Sox',\n",
       "   u'Appalachian Region',\n",
       "   u'Appalachian Trail',\n",
       "   u'Boston',\n",
       "   u'Children of divorced parents',\n",
       "   u'Mountain life',\n",
       "   u'Pitchers (Baseball)'],\n",
       "  u'title': u'The girl who loved Tom Gordon'},\n",
       " {u'number_of_pages': 536,\n",
       "  u'price': 6.6,\n",
       "  u'publish_date': 1999,\n",
       "  u'subjects': [u'Death row inmates', u'Prisons', u'Prisoners'],\n",
       "  u'title': u'The green mile'},\n",
       " {u'number_of_pages': 1138,\n",
       "  u'price': 7.66,\n",
       "  u'publish_date': 1986,\n",
       "  u'subjects': [u'Good and evil'],\n",
       "  u'title': u'It'},\n",
       " {u'number_of_pages': 310,\n",
       "  u'price': 4.83,\n",
       "  u'publish_date': 1987,\n",
       "  u'subjects': [u'Captives',\n",
       "   u'Fans (Persons)',\n",
       "   u'Novelists',\n",
       "   u'Prisoners',\n",
       "   u'Writers',\n",
       "   u'abuse',\n",
       "   u'fear',\n",
       "   u'isolation',\n",
       "   u'prisoner',\n",
       "   u'Nurses'],\n",
       "  u'title': u'Misery'},\n",
       " {u'number_of_pages': 736,\n",
       "  u'price': 3.5,\n",
       "  u'publish_date': 1991,\n",
       "  u'subjects': [u'Castle Rock (Me. : Imaginary place)'],\n",
       "  u'title': u'Needful things'},\n",
       " {u'number_of_pages': 562,\n",
       "  u'price': 4.99,\n",
       "  u'publish_date': 2001,\n",
       "  u'subjects': [u'Cemeteries',\n",
       "   u'Death',\n",
       "   u'Animals',\n",
       "   u'Country life',\n",
       "   u'Resurrection'],\n",
       "  u'title': u'Pet sematary'},\n",
       " {u'number_of_pages': 427,\n",
       "  u'price': 6.6,\n",
       "  u'publish_date': 1975,\n",
       "  u'subjects': [u'City and town life', u'Vampires'],\n",
       "  u'title': u\"'Salem's Lot\"},\n",
       " {u'number_of_pages': 560,\n",
       "  u'price': 7.6,\n",
       "  u'publish_date': 2006,\n",
       "  u'subjects': [u'Roland (Fictitious character : King)'],\n",
       "  u'title': u'Song of Susannah (The Dark Tower, Book 6)'},\n",
       " {u'number_of_pages': 845,\n",
       "  u'price': 7.95,\n",
       "  u'publish_date': 2004,\n",
       "  u'subjects': [u'Good and evil', u'Roland (Fictitious character : King)'],\n",
       "  u'title': u'The dark tower (The Dark Tower, Book 7)'},\n",
       " {u'number_of_pages': 447,\n",
       "  u'price': 5.79,\n",
       "  u'publish_date': 1978,\n",
       "  u'subjects': [u'Hotelkeepers', u'Family', u'Families'],\n",
       "  u'title': u'The Shining'},\n",
       " {u'number_of_pages': 1141,\n",
       "  u'price': 10.08,\n",
       "  u'publish_date': 1991,\n",
       "  u'subjects': [u'Biological warfare',\n",
       "   u'Research',\n",
       "   u'Virus diseases',\n",
       "   u'Good and evil'],\n",
       "  u'title': u'The stand'},\n",
       " {u'number_of_pages': 747,\n",
       "  u'price': 8.24,\n",
       "  u'publish_date': 1988,\n",
       "  u'subjects': [u'Supernatural'],\n",
       "  u'title': u'The Tommyknockers'},\n",
       " {u'number_of_pages': 608,\n",
       "  u'price': 8.99,\n",
       "  u'publish_date': 2003,\n",
       "  u'subjects': [u'Roland (Fictitious character : King)'],\n",
       "  u'title': u'The Waste Lands (The Dark Tower, Book 3)'},\n",
       " {u'number_of_pages': 672,\n",
       "  u'price': 3.78,\n",
       "  u'publish_date': 1997,\n",
       "  u'subjects': [u'Roland (Fictitious character : King)',\n",
       "   u'First loves',\n",
       "   u'Heroes and heroines',\n",
       "   u'Loss (Psychology)',\n",
       "   u'Supernatural',\n",
       "   u'Trains',\n",
       "   u'Friendship'],\n",
       "  u'title': u'Wizard and glass'},\n",
       " {u'number_of_pages': 960,\n",
       "  u'price': 7.61,\n",
       "  u'publish_date': 2006,\n",
       "  u'subjects': [u'Roland (Fictitious character : King)'],\n",
       "  u'title': u'Wolves of the Calla (The Dark Tower, Book 5)'},\n",
       " {u'number_of_pages': 336,\n",
       "  u'price': 4.94,\n",
       "  u'publish_date': 1976,\n",
       "  u'subjects': [u'Roland (Fictitious character : King)'],\n",
       "  u'title': u'The Gunslinger (The Dark Tower, Book 1)'}]"
      ]
     },
     "execution_count": 107,
     "metadata": {},
     "output_type": "execute_result"
    }
   ],
   "source": [
    "RAW_BOOKS   # a list of dic"
   ]
  },
  {
   "cell_type": "code",
   "execution_count": null,
   "metadata": {
    "collapsed": true
   },
   "outputs": [],
   "source": []
  },
  {
   "cell_type": "markdown",
   "metadata": {},
   "source": [
    "#setattr(object, name, value)\n",
    "This is the counterpart of getattr(). The arguments are an object, a string and an arbitrary value. The string may name an existing attribute or a new attribute. The function assigns the value to the attribute, provided the object allows it. For example, setattr(x, 'foobar', 123) is equivalent to x.foobar = 123."
   ]
  },
  {
   "cell_type": "code",
   "execution_count": 108,
   "metadata": {
    "collapsed": false
   },
   "outputs": [
    {
     "data": {
      "text/plain": [
       "[{u'number_of_pages': 245,\n",
       "  u'price': 7.99,\n",
       "  u'publish_date': 1975,\n",
       "  u'subjects': [u'Telekinesis'],\n",
       "  u'title': u'Carrie'},\n",
       " {u'number_of_pages': 427,\n",
       "  u'price': 6.6,\n",
       "  u'publish_date': 1975,\n",
       "  u'subjects': [u'City and town life', u'Vampires'],\n",
       "  u'title': u\"'Salem's Lot\"},\n",
       " {u'number_of_pages': 336,\n",
       "  u'price': 4.94,\n",
       "  u'publish_date': 1976,\n",
       "  u'subjects': [u'Roland (Fictitious character : King)'],\n",
       "  u'title': u'The Gunslinger (The Dark Tower, Book 1)'},\n",
       " {u'number_of_pages': 447,\n",
       "  u'price': 5.79,\n",
       "  u'publish_date': 1978,\n",
       "  u'subjects': [u'Hotelkeepers', u'Family', u'Families'],\n",
       "  u'title': u'The Shining'},\n",
       " {u'number_of_pages': 402,\n",
       "  u'price': 7.99,\n",
       "  u'publish_date': 1979,\n",
       "  u'subjects': [u'Psychics'],\n",
       "  u'title': u'The dead zone'},\n",
       " {u'number_of_pages': 401,\n",
       "  u'price': 7.57,\n",
       "  u'publish_date': 1981,\n",
       "  u'subjects': [u'Psychokinesis', u'Fire', u'Psychic ability'],\n",
       "  u'title': u'Firestarter'},\n",
       " {u'number_of_pages': 304,\n",
       "  u'price': 7.99,\n",
       "  u'publish_date': 1982,\n",
       "  u'subjects': [u'Dogs', u'Rabies'],\n",
       "  u'title': u'Cujo'},\n",
       " {u'number_of_pages': 503,\n",
       "  u'price': 8.99,\n",
       "  u'publish_date': 1983,\n",
       "  u'subjects': [u'Triangles (Interpersonal relations)',\n",
       "   u'Teenagers',\n",
       "   u'Automobiles'],\n",
       "  u'title': u'Christine'},\n",
       " {u'number_of_pages': 1138,\n",
       "  u'price': 7.66,\n",
       "  u'publish_date': 1986,\n",
       "  u'subjects': [u'Good and evil'],\n",
       "  u'title': u'It'},\n",
       " {u'number_of_pages': 310,\n",
       "  u'price': 4.83,\n",
       "  u'publish_date': 1987,\n",
       "  u'subjects': [u'Captives',\n",
       "   u'Fans (Persons)',\n",
       "   u'Novelists',\n",
       "   u'Prisoners',\n",
       "   u'Writers',\n",
       "   u'abuse',\n",
       "   u'fear',\n",
       "   u'isolation',\n",
       "   u'prisoner',\n",
       "   u'Nurses'],\n",
       "  u'title': u'Misery'},\n",
       " {u'number_of_pages': 380,\n",
       "  u'price': 12.75,\n",
       "  u'publish_date': 1988,\n",
       "  u'subjects': [u'Princes', u'Dragons', u'Wizards'],\n",
       "  u'title': u'The eyes of the dragon'},\n",
       " {u'number_of_pages': 747,\n",
       "  u'price': 8.24,\n",
       "  u'publish_date': 1988,\n",
       "  u'subjects': [u'Supernatural'],\n",
       "  u'title': u'The Tommyknockers'},\n",
       " {u'number_of_pages': 736,\n",
       "  u'price': 3.5,\n",
       "  u'publish_date': 1991,\n",
       "  u'subjects': [u'Castle Rock (Me. : Imaginary place)'],\n",
       "  u'title': u'Needful things'},\n",
       " {u'number_of_pages': 1141,\n",
       "  u'price': 10.08,\n",
       "  u'publish_date': 1991,\n",
       "  u'subjects': [u'Biological warfare',\n",
       "   u'Research',\n",
       "   u'Virus diseases',\n",
       "   u'Good and evil'],\n",
       "  u'title': u'The stand'},\n",
       " {u'number_of_pages': 372,\n",
       "  u'price': 12.69,\n",
       "  u'publish_date': 1993,\n",
       "  u'subjects': [u'Confession', u'Intimacy (Psychology)', u'Women'],\n",
       "  u'title': u'Dolores Claiborne'},\n",
       " {u'number_of_pages': 672,\n",
       "  u'price': 3.78,\n",
       "  u'publish_date': 1997,\n",
       "  u'subjects': [u'Roland (Fictitious character : King)',\n",
       "   u'First loves',\n",
       "   u'Heroes and heroines',\n",
       "   u'Loss (Psychology)',\n",
       "   u'Supernatural',\n",
       "   u'Trains',\n",
       "   u'Friendship'],\n",
       "  u'title': u'Wizard and glass'},\n",
       " {u'number_of_pages': 732,\n",
       "  u'price': 7.99,\n",
       "  u'publish_date': 1999,\n",
       "  u'subjects': [u'Authors',\n",
       "   u'Custody of children',\n",
       "   u'Grandfathers',\n",
       "   u'Haunted houses',\n",
       "   u'Novelists',\n",
       "   u'Trials (Custody of children)',\n",
       "   u'Widowers',\n",
       "   u'Widows',\n",
       "   u\"Writer's block\"],\n",
       "  u'title': u'Bag of bones'},\n",
       " {u'number_of_pages': 536,\n",
       "  u'price': 6.6,\n",
       "  u'publish_date': 1999,\n",
       "  u'subjects': [u'Death row inmates', u'Prisons', u'Prisoners'],\n",
       "  u'title': u'The green mile'},\n",
       " {u'number_of_pages': 264,\n",
       "  u'price': 7.99,\n",
       "  u'publish_date': 2000,\n",
       "  u'subjects': [u'Tom Gordon',\n",
       "   u'Boston Red Sox',\n",
       "   u'Appalachian Region',\n",
       "   u'Appalachian Trail',\n",
       "   u'Boston',\n",
       "   u'Children of divorced parents',\n",
       "   u'Mountain life',\n",
       "   u'Pitchers (Baseball)'],\n",
       "  u'title': u'The girl who loved Tom Gordon'},\n",
       " {u'number_of_pages': 882,\n",
       "  u'price': 8.99,\n",
       "  u'publish_date': 2001,\n",
       "  u'subjects': [u'Human-alien encounters'],\n",
       "  u'title': u'Dreamcatcher'},\n",
       " {u'number_of_pages': 562,\n",
       "  u'price': 4.99,\n",
       "  u'publish_date': 2001,\n",
       "  u'subjects': [u'Cemeteries',\n",
       "   u'Death',\n",
       "   u'Animals',\n",
       "   u'Country life',\n",
       "   u'Resurrection'],\n",
       "  u'title': u'Pet sematary'},\n",
       " {u'number_of_pages': 480,\n",
       "  u'price': 13.59,\n",
       "  u'publish_date': 2003,\n",
       "  u'subjects': [u'Roland (Fictitious character : King)'],\n",
       "  u'title': u'The Drawing of the Three (The Dark Tower, Book 2)'},\n",
       " {u'number_of_pages': 608,\n",
       "  u'price': 8.99,\n",
       "  u'publish_date': 2003,\n",
       "  u'subjects': [u'Roland (Fictitious character : King)'],\n",
       "  u'title': u'The Waste Lands (The Dark Tower, Book 3)'},\n",
       " {u'number_of_pages': 845,\n",
       "  u'price': 7.95,\n",
       "  u'publish_date': 2004,\n",
       "  u'subjects': [u'Good and evil', u'Roland (Fictitious character : King)'],\n",
       "  u'title': u'The dark tower (The Dark Tower, Book 7)'},\n",
       " {u'number_of_pages': 560,\n",
       "  u'price': 7.6,\n",
       "  u'publish_date': 2006,\n",
       "  u'subjects': [u'Roland (Fictitious character : King)'],\n",
       "  u'title': u'Song of Susannah (The Dark Tower, Book 6)'},\n",
       " {u'number_of_pages': 960,\n",
       "  u'price': 7.61,\n",
       "  u'publish_date': 2006,\n",
       "  u'subjects': [u'Roland (Fictitious character : King)'],\n",
       "  u'title': u'Wolves of the Calla (The Dark Tower, Book 5)'},\n",
       " {u'number_of_pages': 769,\n",
       "  u'price': 8.06,\n",
       "  u'publish_date': 2008,\n",
       "  u'subjects': [u'Accident victims', u'Supernatural'],\n",
       "  u'title': u'Duma Key'},\n",
       " {u'number_of_pages': 849,\n",
       "  u'price': 13.55,\n",
       "  u'publish_date': 2011,\n",
       "  u'subjects': [u'Time travel', u'Assassination'],\n",
       "  u'title': u'11/22/63'}]"
      ]
     },
     "execution_count": 108,
     "metadata": {},
     "output_type": "execute_result"
    }
   ],
   "source": [
    "pub_sort = sorted(RAW_BOOKS, key=itemgetter('publish_date'))\n",
    "pub_sort"
   ]
  },
  {
   "cell_type": "markdown",
   "metadata": {},
   "source": [
    "#key\n",
    "key specifies a function of one argument that is used to extract a comparison key from each list element: key=str.lower. The default value is None (compare the elements directly)."
   ]
  },
  {
   "cell_type": "markdown",
   "metadata": {},
   "source": [
    "#itemgetter\n",
    "After f = itemgetter(2), the call f(r) returns r[2]."
   ]
  },
  {
   "cell_type": "code",
   "execution_count": 109,
   "metadata": {
    "collapsed": false
   },
   "outputs": [
    {
     "name": "stdout",
     "output_type": "stream",
     "text": [
      "(1975, 2011)\n"
     ]
    }
   ],
   "source": [
    "print(pub_sort[0]['publish_date'], pub_sort[-1]['publish_date'])"
   ]
  },
  {
   "cell_type": "code",
   "execution_count": 110,
   "metadata": {
    "collapsed": false
   },
   "outputs": [
    {
     "data": {
      "text/plain": [
       "dict"
      ]
     },
     "execution_count": 110,
     "metadata": {},
     "output_type": "execute_result"
    }
   ],
   "source": [
    "data = json.load(open('books.json'))\n",
    "#data['books']\n",
    "type(data)"
   ]
  },
  {
   "cell_type": "code",
   "execution_count": 111,
   "metadata": {
    "collapsed": false
   },
   "outputs": [
    {
     "name": "stdout",
     "output_type": "stream",
     "text": [
      "(u'books', [{u'price': 13.55, u'number_of_pages': 849, u'publish_date': 2011, u'subjects': [u'Time travel', u'Assassination'], u'title': u'11/22/63'}, {u'price': 7.99, u'number_of_pages': 732, u'publish_date': 1999, u'subjects': [u'Authors', u'Custody of children', u'Grandfathers', u'Haunted houses', u'Novelists', u'Trials (Custody of children)', u'Widowers', u'Widows', u\"Writer's block\"], u'title': u'Bag of bones'}, {u'price': 7.99, u'number_of_pages': 245, u'publish_date': 1975, u'subjects': [u'Telekinesis'], u'title': u'Carrie'}, {u'price': 8.99, u'number_of_pages': 503, u'publish_date': 1983, u'subjects': [u'Triangles (Interpersonal relations)', u'Teenagers', u'Automobiles'], u'title': u'Christine'}, {u'price': 7.99, u'number_of_pages': 304, u'publish_date': 1982, u'subjects': [u'Dogs', u'Rabies'], u'title': u'Cujo'}, {u'price': 7.99, u'number_of_pages': 402, u'publish_date': 1979, u'subjects': [u'Psychics'], u'title': u'The dead zone'}, {u'price': 12.69, u'number_of_pages': 372, u'publish_date': 1993, u'subjects': [u'Confession', u'Intimacy (Psychology)', u'Women'], u'title': u'Dolores Claiborne'}, {u'price': 13.59, u'number_of_pages': 480, u'publish_date': 2003, u'subjects': [u'Roland (Fictitious character : King)'], u'title': u'The Drawing of the Three (The Dark Tower, Book 2)'}, {u'price': 8.99, u'number_of_pages': 882, u'publish_date': 2001, u'subjects': [u'Human-alien encounters'], u'title': u'Dreamcatcher'}, {u'price': 8.06, u'number_of_pages': 769, u'publish_date': 2008, u'subjects': [u'Accident victims', u'Supernatural'], u'title': u'Duma Key'}, {u'price': 12.75, u'number_of_pages': 380, u'publish_date': 1988, u'subjects': [u'Princes', u'Dragons', u'Wizards'], u'title': u'The eyes of the dragon'}, {u'price': 7.57, u'number_of_pages': 401, u'publish_date': 1981, u'subjects': [u'Psychokinesis', u'Fire', u'Psychic ability'], u'title': u'Firestarter'}, {u'price': 7.99, u'number_of_pages': 264, u'publish_date': 2000, u'subjects': [u'Tom Gordon', u'Boston Red Sox', u'Appalachian Region', u'Appalachian Trail', u'Boston', u'Children of divorced parents', u'Mountain life', u'Pitchers (Baseball)'], u'title': u'The girl who loved Tom Gordon'}, {u'price': 6.6, u'number_of_pages': 536, u'publish_date': 1999, u'subjects': [u'Death row inmates', u'Prisons', u'Prisoners'], u'title': u'The green mile'}, {u'price': 7.66, u'number_of_pages': 1138, u'publish_date': 1986, u'subjects': [u'Good and evil'], u'title': u'It'}, {u'price': 4.83, u'number_of_pages': 310, u'publish_date': 1987, u'subjects': [u'Captives', u'Fans (Persons)', u'Novelists', u'Prisoners', u'Writers', u'abuse', u'fear', u'isolation', u'prisoner', u'Nurses'], u'title': u'Misery'}, {u'price': 3.5, u'number_of_pages': 736, u'publish_date': 1991, u'subjects': [u'Castle Rock (Me. : Imaginary place)'], u'title': u'Needful things'}, {u'price': 4.99, u'number_of_pages': 562, u'publish_date': 2001, u'subjects': [u'Cemeteries', u'Death', u'Animals', u'Country life', u'Resurrection'], u'title': u'Pet sematary'}, {u'price': 6.6, u'number_of_pages': 427, u'publish_date': 1975, u'subjects': [u'City and town life', u'Vampires'], u'title': u\"'Salem's Lot\"}, {u'price': 7.6, u'number_of_pages': 560, u'publish_date': 2006, u'subjects': [u'Roland (Fictitious character : King)'], u'title': u'Song of Susannah (The Dark Tower, Book 6)'}, {u'price': 7.95, u'number_of_pages': 845, u'publish_date': 2004, u'subjects': [u'Good and evil', u'Roland (Fictitious character : King)'], u'title': u'The dark tower (The Dark Tower, Book 7)'}, {u'price': 5.79, u'number_of_pages': 447, u'publish_date': 1978, u'subjects': [u'Hotelkeepers', u'Family', u'Families'], u'title': u'The Shining'}, {u'price': 10.08, u'number_of_pages': 1141, u'publish_date': 1991, u'subjects': [u'Biological warfare', u'Research', u'Virus diseases', u'Good and evil'], u'title': u'The stand'}, {u'price': 8.24, u'number_of_pages': 747, u'publish_date': 1988, u'subjects': [u'Supernatural'], u'title': u'The Tommyknockers'}, {u'price': 8.99, u'number_of_pages': 608, u'publish_date': 2003, u'subjects': [u'Roland (Fictitious character : King)'], u'title': u'The Waste Lands (The Dark Tower, Book 3)'}, {u'price': 3.78, u'number_of_pages': 672, u'publish_date': 1997, u'subjects': [u'Roland (Fictitious character : King)', u'First loves', u'Heroes and heroines', u'Loss (Psychology)', u'Supernatural', u'Trains', u'Friendship'], u'title': u'Wizard and glass'}, {u'price': 7.61, u'number_of_pages': 960, u'publish_date': 2006, u'subjects': [u'Roland (Fictitious character : King)'], u'title': u'Wolves of the Calla (The Dark Tower, Book 5)'}, {u'price': 4.94, u'number_of_pages': 336, u'publish_date': 1976, u'subjects': [u'Roland (Fictitious character : King)'], u'title': u'The Gunslinger (The Dark Tower, Book 1)'}])\n"
     ]
    }
   ],
   "source": [
    "for key,value in data.items():\n",
    "    print (key, value)"
   ]
  },
  {
   "cell_type": "code",
   "execution_count": 112,
   "metadata": {
    "collapsed": false
   },
   "outputs": [
    {
     "data": {
      "text/plain": [
       "[{u'number_of_pages': 849,\n",
       "  u'price': 13.55,\n",
       "  u'publish_date': 2011,\n",
       "  u'subjects': [u'Time travel', u'Assassination'],\n",
       "  u'title': u'11/22/63'},\n",
       " {u'number_of_pages': 732,\n",
       "  u'price': 7.99,\n",
       "  u'publish_date': 1999,\n",
       "  u'subjects': [u'Authors',\n",
       "   u'Custody of children',\n",
       "   u'Grandfathers',\n",
       "   u'Haunted houses',\n",
       "   u'Novelists',\n",
       "   u'Trials (Custody of children)',\n",
       "   u'Widowers',\n",
       "   u'Widows',\n",
       "   u\"Writer's block\"],\n",
       "  u'title': u'Bag of bones'},\n",
       " {u'number_of_pages': 245,\n",
       "  u'price': 7.99,\n",
       "  u'publish_date': 1975,\n",
       "  u'subjects': [u'Telekinesis'],\n",
       "  u'title': u'Carrie'},\n",
       " {u'number_of_pages': 503,\n",
       "  u'price': 8.99,\n",
       "  u'publish_date': 1983,\n",
       "  u'subjects': [u'Triangles (Interpersonal relations)',\n",
       "   u'Teenagers',\n",
       "   u'Automobiles'],\n",
       "  u'title': u'Christine'},\n",
       " {u'number_of_pages': 304,\n",
       "  u'price': 7.99,\n",
       "  u'publish_date': 1982,\n",
       "  u'subjects': [u'Dogs', u'Rabies'],\n",
       "  u'title': u'Cujo'},\n",
       " {u'number_of_pages': 402,\n",
       "  u'price': 7.99,\n",
       "  u'publish_date': 1979,\n",
       "  u'subjects': [u'Psychics'],\n",
       "  u'title': u'The dead zone'},\n",
       " {u'number_of_pages': 372,\n",
       "  u'price': 12.69,\n",
       "  u'publish_date': 1993,\n",
       "  u'subjects': [u'Confession', u'Intimacy (Psychology)', u'Women'],\n",
       "  u'title': u'Dolores Claiborne'},\n",
       " {u'number_of_pages': 480,\n",
       "  u'price': 13.59,\n",
       "  u'publish_date': 2003,\n",
       "  u'subjects': [u'Roland (Fictitious character : King)'],\n",
       "  u'title': u'The Drawing of the Three (The Dark Tower, Book 2)'},\n",
       " {u'number_of_pages': 882,\n",
       "  u'price': 8.99,\n",
       "  u'publish_date': 2001,\n",
       "  u'subjects': [u'Human-alien encounters'],\n",
       "  u'title': u'Dreamcatcher'},\n",
       " {u'number_of_pages': 769,\n",
       "  u'price': 8.06,\n",
       "  u'publish_date': 2008,\n",
       "  u'subjects': [u'Accident victims', u'Supernatural'],\n",
       "  u'title': u'Duma Key'},\n",
       " {u'number_of_pages': 380,\n",
       "  u'price': 12.75,\n",
       "  u'publish_date': 1988,\n",
       "  u'subjects': [u'Princes', u'Dragons', u'Wizards'],\n",
       "  u'title': u'The eyes of the dragon'},\n",
       " {u'number_of_pages': 401,\n",
       "  u'price': 7.57,\n",
       "  u'publish_date': 1981,\n",
       "  u'subjects': [u'Psychokinesis', u'Fire', u'Psychic ability'],\n",
       "  u'title': u'Firestarter'},\n",
       " {u'number_of_pages': 264,\n",
       "  u'price': 7.99,\n",
       "  u'publish_date': 2000,\n",
       "  u'subjects': [u'Tom Gordon',\n",
       "   u'Boston Red Sox',\n",
       "   u'Appalachian Region',\n",
       "   u'Appalachian Trail',\n",
       "   u'Boston',\n",
       "   u'Children of divorced parents',\n",
       "   u'Mountain life',\n",
       "   u'Pitchers (Baseball)'],\n",
       "  u'title': u'The girl who loved Tom Gordon'},\n",
       " {u'number_of_pages': 536,\n",
       "  u'price': 6.6,\n",
       "  u'publish_date': 1999,\n",
       "  u'subjects': [u'Death row inmates', u'Prisons', u'Prisoners'],\n",
       "  u'title': u'The green mile'},\n",
       " {u'number_of_pages': 1138,\n",
       "  u'price': 7.66,\n",
       "  u'publish_date': 1986,\n",
       "  u'subjects': [u'Good and evil'],\n",
       "  u'title': u'It'},\n",
       " {u'number_of_pages': 310,\n",
       "  u'price': 4.83,\n",
       "  u'publish_date': 1987,\n",
       "  u'subjects': [u'Captives',\n",
       "   u'Fans (Persons)',\n",
       "   u'Novelists',\n",
       "   u'Prisoners',\n",
       "   u'Writers',\n",
       "   u'abuse',\n",
       "   u'fear',\n",
       "   u'isolation',\n",
       "   u'prisoner',\n",
       "   u'Nurses'],\n",
       "  u'title': u'Misery'},\n",
       " {u'number_of_pages': 736,\n",
       "  u'price': 3.5,\n",
       "  u'publish_date': 1991,\n",
       "  u'subjects': [u'Castle Rock (Me. : Imaginary place)'],\n",
       "  u'title': u'Needful things'},\n",
       " {u'number_of_pages': 562,\n",
       "  u'price': 4.99,\n",
       "  u'publish_date': 2001,\n",
       "  u'subjects': [u'Cemeteries',\n",
       "   u'Death',\n",
       "   u'Animals',\n",
       "   u'Country life',\n",
       "   u'Resurrection'],\n",
       "  u'title': u'Pet sematary'},\n",
       " {u'number_of_pages': 427,\n",
       "  u'price': 6.6,\n",
       "  u'publish_date': 1975,\n",
       "  u'subjects': [u'City and town life', u'Vampires'],\n",
       "  u'title': u\"'Salem's Lot\"},\n",
       " {u'number_of_pages': 560,\n",
       "  u'price': 7.6,\n",
       "  u'publish_date': 2006,\n",
       "  u'subjects': [u'Roland (Fictitious character : King)'],\n",
       "  u'title': u'Song of Susannah (The Dark Tower, Book 6)'},\n",
       " {u'number_of_pages': 845,\n",
       "  u'price': 7.95,\n",
       "  u'publish_date': 2004,\n",
       "  u'subjects': [u'Good and evil', u'Roland (Fictitious character : King)'],\n",
       "  u'title': u'The dark tower (The Dark Tower, Book 7)'},\n",
       " {u'number_of_pages': 447,\n",
       "  u'price': 5.79,\n",
       "  u'publish_date': 1978,\n",
       "  u'subjects': [u'Hotelkeepers', u'Family', u'Families'],\n",
       "  u'title': u'The Shining'},\n",
       " {u'number_of_pages': 1141,\n",
       "  u'price': 10.08,\n",
       "  u'publish_date': 1991,\n",
       "  u'subjects': [u'Biological warfare',\n",
       "   u'Research',\n",
       "   u'Virus diseases',\n",
       "   u'Good and evil'],\n",
       "  u'title': u'The stand'},\n",
       " {u'number_of_pages': 747,\n",
       "  u'price': 8.24,\n",
       "  u'publish_date': 1988,\n",
       "  u'subjects': [u'Supernatural'],\n",
       "  u'title': u'The Tommyknockers'},\n",
       " {u'number_of_pages': 608,\n",
       "  u'price': 8.99,\n",
       "  u'publish_date': 2003,\n",
       "  u'subjects': [u'Roland (Fictitious character : King)'],\n",
       "  u'title': u'The Waste Lands (The Dark Tower, Book 3)'},\n",
       " {u'number_of_pages': 672,\n",
       "  u'price': 3.78,\n",
       "  u'publish_date': 1997,\n",
       "  u'subjects': [u'Roland (Fictitious character : King)',\n",
       "   u'First loves',\n",
       "   u'Heroes and heroines',\n",
       "   u'Loss (Psychology)',\n",
       "   u'Supernatural',\n",
       "   u'Trains',\n",
       "   u'Friendship'],\n",
       "  u'title': u'Wizard and glass'},\n",
       " {u'number_of_pages': 960,\n",
       "  u'price': 7.61,\n",
       "  u'publish_date': 2006,\n",
       "  u'subjects': [u'Roland (Fictitious character : King)'],\n",
       "  u'title': u'Wolves of the Calla (The Dark Tower, Book 5)'},\n",
       " {u'number_of_pages': 336,\n",
       "  u'price': 4.94,\n",
       "  u'publish_date': 1976,\n",
       "  u'subjects': [u'Roland (Fictitious character : King)'],\n",
       "  u'title': u'The Gunslinger (The Dark Tower, Book 1)'}]"
      ]
     },
     "execution_count": 112,
     "metadata": {},
     "output_type": "execute_result"
    }
   ],
   "source": [
    "data['books']"
   ]
  },
  {
   "cell_type": "code",
   "execution_count": 113,
   "metadata": {
    "collapsed": true
   },
   "outputs": [],
   "source": [
    "pages_sort = sorted(BOOKS, key=attrgetter('number_of_pages'))"
   ]
  },
  {
   "cell_type": "markdown",
   "metadata": {},
   "source": [
    "#attrgetter"
   ]
  },
  {
   "cell_type": "code",
   "execution_count": 114,
   "metadata": {
    "collapsed": false
   },
   "outputs": [
    {
     "name": "stdout",
     "output_type": "stream",
     "text": [
      "(245, 1141)\n"
     ]
    }
   ],
   "source": [
    "print(pages_sort[0].number_of_pages, pages_sort[-1].number_of_pages)"
   ]
  },
  {
   "cell_type": "code",
   "execution_count": 115,
   "metadata": {
    "collapsed": true
   },
   "outputs": [],
   "source": [
    "from operator import itemgetter\n",
    "fruit_list = [\n",
    "    ('apple', 2),\n",
    "    ('banana', 5),\n",
    "    ('coconut', 1),\n",
    "    ('durian', 3),\n",
    "    ('elderberries', 4)\n",
    "]\n",
    "\n",
    "sorted_fruit = sorted(fruit_list, key=itemgetter(1))\n"
   ]
  },
  {
   "cell_type": "code",
   "execution_count": 116,
   "metadata": {
    "collapsed": false
   },
   "outputs": [
    {
     "data": {
      "text/plain": [
       "[('coconut', 1),\n",
       " ('apple', 2),\n",
       " ('durian', 3),\n",
       " ('elderberries', 4),\n",
       " ('banana', 5)]"
      ]
     },
     "execution_count": 116,
     "metadata": {},
     "output_type": "execute_result"
    }
   ],
   "source": [
    "sorted_fruit"
   ]
  },
  {
   "cell_type": "code",
   "execution_count": 117,
   "metadata": {
    "collapsed": false
   },
   "outputs": [
    {
     "data": {
      "text/plain": [
       "[('banana', 5),\n",
       " ('elderberries', 4),\n",
       " ('durian', 3),\n",
       " ('apple', 2),\n",
       " ('coconut', 1)]"
      ]
     },
     "execution_count": 117,
     "metadata": {},
     "output_type": "execute_result"
    }
   ],
   "source": [
    "sorted_fruit = sorted(fruit_list, key=itemgetter(1), reverse= True)\n",
    "sorted_fruit"
   ]
  },
  {
   "cell_type": "code",
   "execution_count": 118,
   "metadata": {
    "collapsed": false
   },
   "outputs": [
    {
     "data": {
      "text/plain": [
       "[datetime.datetime(2012, 8, 9, 14, 59, 2),\n",
       " datetime.datetime(2006, 8, 15, 14, 59, 2),\n",
       " datetime.datetime(1981, 5, 16, 2, 10, 42),\n",
       " datetime.datetime(2015, 4, 29, 10, 15, 39)]"
      ]
     },
     "execution_count": 118,
     "metadata": {},
     "output_type": "execute_result"
    }
   ],
   "source": [
    "import datetime\n",
    "from operator import attrgetter\n",
    "\n",
    "date_list = [\n",
    "    datetime.datetime(2015, 4, 29, 10, 15, 39),\n",
    "    datetime.datetime(2006, 8, 15, 14, 59, 2),\n",
    "    datetime.datetime(1981, 5, 16, 2, 10, 42),\n",
    "    datetime.datetime(2012, 8, 9, 14, 59, 2),\n",
    "]\n",
    "\n",
    "sorted_dates = sorted(date_list, key= attrgetter('day'))\n",
    "sorted_dates"
   ]
  },
  {
   "cell_type": "code",
   "execution_count": 119,
   "metadata": {
    "collapsed": true
   },
   "outputs": [],
   "source": [
    "a=[1,1,3]"
   ]
  },
  {
   "cell_type": "code",
   "execution_count": 120,
   "metadata": {
    "collapsed": false
   },
   "outputs": [
    {
     "data": {
      "text/plain": [
       "[2, 2, 6]"
      ]
     },
     "execution_count": 120,
     "metadata": {},
     "output_type": "execute_result"
    }
   ],
   "source": [
    "def double(a):\n",
    "    return 2*a\n",
    "\n",
    "b=list(map(double,a))\n",
    "b"
   ]
  },
  {
   "cell_type": "code",
   "execution_count": 121,
   "metadata": {
    "collapsed": false
   },
   "outputs": [
    {
     "name": "stdout",
     "output_type": "stream",
     "text": [
      "10.84\n",
      "13.55\n"
     ]
    }
   ],
   "source": [
    "### MAP ###\n",
    "from copy import copy\n",
    "def sales_price(book):\n",
    "    \"\"\"Apply a 20% discount to the book's price\"\"\"\n",
    "    book = copy(book)\n",
    "    book.price = round(book.price-book.price*.2, 2)\n",
    "    return book\n",
    "\n",
    "sales_books = list(map(sales_price, BOOKS))\n",
    "print sales_books[0].price  #after discount\n",
    "print BOOKS[0].price  #orginal"
   ]
  },
  {
   "cell_type": "code",
   "execution_count": 122,
   "metadata": {
    "collapsed": true
   },
   "outputs": [],
   "source": [
    "#map is similar to list comprehension"
   ]
  },
  {
   "cell_type": "code",
   "execution_count": 123,
   "metadata": {
    "collapsed": false
   },
   "outputs": [
    {
     "data": {
      "text/plain": [
       "10.84"
      ]
     },
     "execution_count": 123,
     "metadata": {},
     "output_type": "execute_result"
    }
   ],
   "source": [
    "sales_books2= [sales_price(book) for book in BOOKS]\n",
    "sales_books2[0].price"
   ]
  },
  {
   "cell_type": "code",
   "execution_count": 124,
   "metadata": {
    "collapsed": false
   },
   "outputs": [
    {
     "data": {
      "text/plain": [
       "['cat', 'Treehouse', 'Kenneth', [1, 2, 3, 4, 5]]"
      ]
     },
     "execution_count": 124,
     "metadata": {},
     "output_type": "execute_result"
    }
   ],
   "source": [
    "backwards = [\n",
    "    'tac',\n",
    "    'esuoheerT',\n",
    "    'htenneK',\n",
    "    [5, 4, 3, 2, 1],\n",
    "]\n",
    "\n",
    "def reverse(something):\n",
    "    return something[::-1]\n",
    "\n",
    "forwards = list(map(reverse,backwards))\n",
    "forwards"
   ]
  },
  {
   "cell_type": "markdown",
   "metadata": {},
   "source": [
    "filter() takes a function and an iterable. The function, like with map(), takes only a single argument and is applied to each item in the iterable. If the function returns a truthy value for the item, the item is sent back to filter() which, ultimately, returns a new iterable of the filtered items.\n",
    "\n",
    "You can achieve the same effect with [item for item in iterable if func(item)]. Again, like with map(), this can be more quickly readable for small applications.\n",
    "\n",
    "I mentioned filterfalse(). This function works just like filter() but only returns things where the filter function gives back a False or non-truthy value. You can read more in the documentation.\n",
    "\n"
   ]
  },
  {
   "cell_type": "code",
   "execution_count": 125,
   "metadata": {
    "collapsed": false
   },
   "outputs": [
    {
     "name": "stdout",
     "output_type": "stream",
     "text": [
      "28\n",
      "12\n"
     ]
    }
   ],
   "source": [
    "### FILTER ###\n",
    "def is_long_book(book):\n",
    "    \"\"\"Does a book have 600+ pages?\"\"\"\n",
    "    return book.number_of_pages >= 600\n",
    "\n",
    "long_books = list(filter(is_long_book, BOOKS))\n",
    "long_books2 = [book for book in BOOKS if book.number_of_pages >= 600]\n",
    "print(len(BOOKS))\n",
    "print(len(long_books2))"
   ]
  }
 ],
 "metadata": {
  "kernelspec": {
   "display_name": "Python 2",
   "language": "python",
   "name": "python2"
  },
  "language_info": {
   "codemirror_mode": {
    "name": "ipython",
    "version": 2
   },
   "file_extension": ".py",
   "mimetype": "text/x-python",
   "name": "python",
   "nbconvert_exporter": "python",
   "pygments_lexer": "ipython2",
   "version": "2.7.13"
  }
 },
 "nbformat": 4,
 "nbformat_minor": 0
}
